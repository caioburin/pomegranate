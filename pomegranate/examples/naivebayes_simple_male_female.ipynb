{
 "cells": [
  {
   "cell_type": "markdown",
   "metadata": {},
   "source": [
    "# Naive Bayes Simple Male or Female"
   ]
  },
  {
   "cell_type": "markdown",
   "metadata": {},
   "source": [
    "author: Nicholas Farn [<a href=\"sendto:nicholasfarn@gmail.com\">nicholasfarn@gmail.com</a>]"
   ]
  },
  {
   "cell_type": "markdown",
   "metadata": {},
   "source": [
    "This example shows how to create a simple Gaussian Naive Bayes Classifier using pomegranate. In this example we will be given a set of data measuring a person's height (feet) and try to classify them as male or female. This example is a simplification drawn from the example in the Wikipedia <a href=\"https://en.wikipedia.org/wiki/Naive_Bayes_classifier#Examples\">article</a> on Naive Bayes Classifiers."
   ]
  },
  {
   "cell_type": "code",
   "execution_count": 1,
   "metadata": {
    "collapsed": false
   },
   "outputs": [
    {
     "name": "stdout",
     "output_type": "stream",
     "text": [
      "Populating the interactive namespace from numpy and matplotlib\n"
     ]
    },
    {
     "name": "stderr",
     "output_type": "stream",
     "text": [
      "WARNING: pylab import has clobbered these variables: ['log', 'random']\n",
      "`%matplotlib` prevents importing * from pylab and numpy\n"
     ]
    }
   ],
   "source": [
    "from pomegranate import *\n",
    "import seaborn\n",
    "seaborn.set_style('whitegrid')\n",
    "%pylab inline"
   ]
  },
  {
   "cell_type": "markdown",
   "metadata": {},
   "source": [
    "First we'll create the distributions for our model. In this case we'll assume that height, weight, and foot size are normally distributed. We'll fit our distribution to a set of data for males and females."
   ]
  },
  {
   "cell_type": "code",
   "execution_count": 2,
   "metadata": {
    "collapsed": false
   },
   "outputs": [],
   "source": [
    "male = NormalDistribution.from_samples([ 6.0, 5.92, 5.58, 5.92, 6.08, 5.83 ])\n",
    "female = NormalDistribution.from_samples([ 5.0, 5.5, 5.42, 5.75, 5.17, 5.0 ])"
   ]
  },
  {
   "cell_type": "markdown",
   "metadata": {},
   "source": [
    "Let's check on the parameters for our male and female height distributions."
   ]
  },
  {
   "cell_type": "code",
   "execution_count": 3,
   "metadata": {
    "collapsed": false
   },
   "outputs": [
    {
     "data": {
      "image/png": "[encoded data removed]",
      "text/plain": [
       "<matplotlib.figure.Figure at 0x7f05f0d47790>"
      ]
     },
     "metadata": {},
     "output_type": "display_data"
    },
    {
     "name": "stdout",
     "output_type": "stream",
     "text": [
      "Male distribution has mu = 5.89 and sigma = 0.158\n",
      "Female distribution has mu = 5.31 and sigma = 0.275\n"
     ]
    }
   ],
   "source": [
    "male.plot( n=100000, edgecolor='c', color='c', bins=50, label='Male' )\n",
    "female.plot( n=100000, edgecolor='g', color='g', bins=50, label='Female' )\n",
    "plt.legend( fontsize=14 )\n",
    "plt.ylabel('Count')\n",
    "plt.xlabel('Height (ft)')\n",
    "plt.show()\n",
    "\n",
    "print \"Male distribution has mu = {:.3} and sigma = {:.3}\".format( *male.parameters )\n",
    "print \"Female distribution has mu = {:.3} and sigma = {:.3}\".format( *female.parameters )"
   ]
  },
  {
   "cell_type": "markdown",
   "metadata": {},
   "source": [
    "Everything seems to look good so let's create our Naive Bayes Classifier."
   ]
  },
  {
   "cell_type": "code",
   "execution_count": 4,
   "metadata": {
    "collapsed": false
   },
   "outputs": [],
   "source": [
    "clf = NaiveBayes([ male, female ])"
   ]
  },
  {
   "cell_type": "markdown",
   "metadata": {},
   "source": [
    "Let's take a look at how our classifier calls people of various heights. We can either look at a probabilistic measurement of the sample being male or female, or a hard call prediction. Lets take a look at both."
   ]
  },
  {
   "cell_type": "code",
   "execution_count": 5,
   "metadata": {
    "collapsed": false
   },
   "outputs": [
    {
     "name": "stdout",
     "output_type": "stream",
     "text": [
      "Height   5.0, 4.39e-05% chance male and 1e+02% chance female\n",
      "Height   6.0,  97.0% chance male and  2.98% chance female\n",
      "Height  4.92, 3.22e-06% chance male and 1e+02% chance female\n",
      "Height   5.5,  9.79% chance male and  90.2% chance female\n"
     ]
    }
   ],
   "source": [
    "data = np.array([ 5.0, 6.0, 4.92, 5.5 ])\n",
    "\n",
    "for sample, probability in zip( data, clf.predict_proba(data) ):\n",
    "    print \"Height {:5.3}, {:5.3}% chance male and {:5.3}% chance female\".format( sample, 100*probability[0], 100*probability[1])"
   ]
  },
  {
   "cell_type": "code",
   "execution_count": 6,
   "metadata": {
    "collapsed": false
   },
   "outputs": [
    {
     "name": "stdout",
     "output_type": "stream",
     "text": [
      "Person with height 5.0 is female.\n",
      "Person with height 6.0 is male.\n",
      "Person with height 4.92 is female.\n",
      "Person with height 5.5 is female.\n"
     ]
    }
   ],
   "source": [
    "for sample, result in zip( data, clf.predict( data )):\n",
    "    print \"Person with height {} is {}.\".format( sample, \"female\" if result else \"male\" )"
   ]
  },
  {
   "cell_type": "markdown",
   "metadata": {},
   "source": [
    "These results look good. We can also train a our classifier with a set of data. This is done by creating a set of observations along with a set with the corresponding correct classification."
   ]
  },
  {
   "cell_type": "code",
   "execution_count": 7,
   "metadata": {
    "collapsed": false
   },
   "outputs": [],
   "source": [
    "X = np.array([ 180, 190, 170, 165, 100, 150, 130, 150 ])\n",
    "y = np.array([ 0, 0, 0, 0, 1, 1, 1, 1 ])\n",
    "\n",
    "clf.fit( X, y )"
   ]
  },
  {
   "cell_type": "markdown",
   "metadata": {},
   "source": [
    "In this case we fitted the normal distributions to fit a set of data with male an female weights (lbs). Let's check the results with the following data set."
   ]
  },
  {
   "cell_type": "code",
   "execution_count": 8,
   "metadata": {
    "collapsed": true
   },
   "outputs": [],
   "source": [
    "data = np.array([ 130, 200, 100, 162, 145 ])"
   ]
  },
  {
   "cell_type": "markdown",
   "metadata": {},
   "source": [
    "Now let's enter it into our classifier."
   ]
  },
  {
   "cell_type": "code",
   "execution_count": 9,
   "metadata": {
    "collapsed": false
   },
   "outputs": [
    {
     "name": "stdout",
     "output_type": "stream",
     "text": [
      "Person with weight 130 is female.\n",
      "Person with weight 200 is male.\n",
      "Person with weight 100 is female.\n",
      "Person with weight 162 is male.\n",
      "Person with weight 145 is female.\n"
     ]
    }
   ],
   "source": [
    "for sample, result in zip( data, clf.predict( data )):\n",
    "    print \"Person with weight {} is {}.\".format( sample, \"female\" if result else \"male\" )"
   ]
  },
  {
   "cell_type": "markdown",
   "metadata": {},
   "source": [
    "Everything looks good from here. In this tutorial we created a simple Naive Bayes Classifier with normal distributions. It is possible to create a classifier with more complex distributions, or even with a Hidden Markov Model."
   ]
  }
 ],
 "metadata": {
  "kernelspec": {
   "display_name": "Python 2",
   "language": "python",
   "name": "python2"
  },
  "language_info": {
   "codemirror_mode": {
    "name": "ipython",
    "version": 2
   },
   "file_extension": ".py",
   "mimetype": "text/x-python",
   "name": "python",
   "nbconvert_exporter": "python",
   "pygments_lexer": "ipython2",
   "version": "2.7.11"
  }
 },
 "nbformat": 4,
 "nbformat_minor": 0
}
